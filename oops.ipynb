{
  "nbformat": 4,
  "nbformat_minor": 0,
  "metadata": {
    "colab": {
      "provenance": []
    },
    "kernelspec": {
      "name": "python3",
      "display_name": "Python 3"
    },
    "language_info": {
      "name": "python"
    }
  },
  "cells": [
    {
      "cell_type": "markdown",
      "source": [
        "1. What are the five key concepts of Object-Oriented Programming (OOP)?"
      ],
      "metadata": {
        "id": "7Yj_Z3DcMRUp"
      }
    },
    {
      "cell_type": "markdown",
      "source": [
        "Answer - The five key concepts of Object-Oriented Programming (OOPs) are:\n",
        "\n",
        "Encapsulation: Bundling data and methods that operate on the data into a single unit or class, and restricting access to some components to protect the integrity of the object. This is typically achieved through access modifiers like private, protected, and public.\n",
        "\n",
        "Abstraction: Hiding the complex implementation details of a class and exposing only the necessary functionality. This simplifies interaction with the object and reduces complexity.\n",
        "\n",
        "Inheritance: Allowing one class to inherit properties and methods from another class. This promotes code reuse and establishes a parent-child relationship between classes.\n",
        "\n",
        "Polymorphism: The ability of different classes to be treated as instances of the same class through a common interface. It allows for one method to be used in different ways, depending on the object that is calling it (overloading and overriding).\n",
        "\n",
        "Association: Defines the relationships between objects, where one object uses or interacts with another. There are various types of associations, including aggregation and composition."
      ],
      "metadata": {
        "id": "u1BykHA5MXMk"
      }
    },
    {
      "cell_type": "markdown",
      "source": [
        "2. Write a Python class for a `Car` with attributes for `make`, `model`, and `year`. Include a method to display\n",
        "the car's information.\n"
      ],
      "metadata": {
        "id": "WLjbmsQqMyQN"
      }
    },
    {
      "cell_type": "code",
      "source": [
        "class Car:\n",
        "    def __init__(self, make, model, year):\n",
        "        self.make = make\n",
        "        self.model = model\n",
        "        self.year = year\n",
        "\n",
        "    def display_info(self):\n",
        "        print(f\"Car Info: {self.year} {self.make} {self.model}\")\n",
        "\n",
        "my_car = Car(\"Toyota\", \"Innova\", 2022)\n",
        "my_car.display_info()\n"
      ],
      "metadata": {
        "colab": {
          "base_uri": "https://localhost:8080/"
        },
        "id": "c_wK-hLWo5We",
        "outputId": "30cff37b-20c4-47a6-a890-d76acdcfd50c"
      },
      "execution_count": null,
      "outputs": [
        {
          "output_type": "stream",
          "name": "stdout",
          "text": [
            "Car Info: 2022 Toyota Innova\n"
          ]
        }
      ]
    },
    {
      "cell_type": "markdown",
      "source": [
        "3. Explain the difference between instance methods and class methods. Provide an example of each."
      ],
      "metadata": {
        "id": "7JZTWNaDp1bK"
      }
    },
    {
      "cell_type": "markdown",
      "source": [
        "Answer - Instance Methods - These methods are used to operate on an instance of a class (an object).\n",
        "\n",
        "- They take self as the first parameter, which refers to the instance of the class.\n",
        "\n",
        "- Instance methods can access and modify instance variables.\n",
        "\n",
        "\n",
        "Class Methods - These methods are bound to the class itself rather than an instance.\n",
        "\n",
        "- They take cls as the first parameter, which refers to the class.\n",
        "\n",
        "- Class methods are decorated with @classmethod.\n",
        "\n",
        "\n",
        "\n",
        "\n"
      ],
      "metadata": {
        "id": "x5w_CShyqTt8"
      }
    },
    {
      "cell_type": "code",
      "source": [
        "# instance method\n",
        "class Dog:\n",
        "    def __init__(self, name, breed):\n",
        "        self.name = name\n",
        "        self.breed = breed\n",
        "\n",
        "    def bark(self):\n",
        "        print(f\"{self.name} is barking!\")\n",
        "\n",
        "my_dog = Dog(\"Buddy\", \"Golden Retriever\")\n",
        "my_dog.bark()\n"
      ],
      "metadata": {
        "colab": {
          "base_uri": "https://localhost:8080/"
        },
        "id": "lB2LftfEq-nf",
        "outputId": "2aa8477f-7694-4fb7-a4ed-fa46c0c7e61b"
      },
      "execution_count": null,
      "outputs": [
        {
          "output_type": "stream",
          "name": "stdout",
          "text": [
            "Buddy is barking!\n"
          ]
        }
      ]
    },
    {
      "cell_type": "code",
      "source": [
        "# Class Methods\n",
        "class Dog:\n",
        "    species = \"Canine\"\n",
        "\n",
        "    def __init__(self, name, breed):\n",
        "        self.name = name\n",
        "        self.breed = breed\n",
        "\n",
        "    @classmethod\n",
        "    def set_species(cls, new_species):\n",
        "        cls.species = new_species\n",
        "\n",
        "    @classmethod\n",
        "    def get_species(cls):\n",
        "        return cls.species\n",
        "\n",
        "Dog.set_species(\"Wolf\")\n",
        "print(Dog.get_species())\n"
      ],
      "metadata": {
        "colab": {
          "base_uri": "https://localhost:8080/"
        },
        "id": "-il5XJFyrEqb",
        "outputId": "a8cd6600-4dac-442b-bf0c-5ba4ea22e347"
      },
      "execution_count": null,
      "outputs": [
        {
          "output_type": "stream",
          "name": "stdout",
          "text": [
            "Wolf\n"
          ]
        }
      ]
    },
    {
      "cell_type": "markdown",
      "source": [
        "4. How does Python implement method overloading? Give an example."
      ],
      "metadata": {
        "id": "Sven1XzErbMn"
      }
    },
    {
      "cell_type": "markdown",
      "source": [
        "Answer -\n",
        "Python does not support method overloading in the traditional sense. In Python, if you define multiple methods with the same name but different parameters, the last definition will overwrite the previous ones.\n",
        "\n",
        "method overloading using this techniques - Default arguments,Variable-length arguments (*args, **kwargs),Type-checking inside the method."
      ],
      "metadata": {
        "id": "KEeNLtruupRw"
      }
    },
    {
      "cell_type": "code",
      "source": [
        "class Calculator:\n",
        "    def add(self, a, b=0, c=0):\n",
        "        return a + b + c\n",
        "\n",
        "calc = Calculator()\n",
        "\n",
        "print(calc.add(5))\n",
        "print(calc.add(5, 10))\n",
        "print(calc.add(5, 10, 15))\n",
        "\n",
        "\n",
        "class Calculator:\n",
        "    def add(self, *args):\n",
        "        return sum(args)\n",
        "\n",
        "calc = Calculator()\n",
        "\n",
        "print(calc.add(5))\n",
        "print(calc.add(5, 10))\n",
        "print(calc.add(5, 10, 15))\n",
        "\n",
        "\n",
        "class Printer:\n",
        "    def print_value(self, value):\n",
        "        if isinstance(value, int):\n",
        "            print(f\"Integer: {value}\")\n",
        "        elif isinstance(value, str):\n",
        "            print(f\"String: {value}\")\n",
        "        else:\n",
        "            print(f\"Other type: {value}\")\n",
        "\n",
        "p = Printer()\n",
        "\n",
        "p.print_value(10)\n",
        "p.print_value(\"Hello\")\n",
        "p.print_value([1, 2, 3])\n",
        "\n",
        "\n"
      ],
      "metadata": {
        "colab": {
          "base_uri": "https://localhost:8080/"
        },
        "id": "H6rO_ukErcSZ",
        "outputId": "3dc93dd2-2368-4d76-c27a-28ab4639b0f2"
      },
      "execution_count": null,
      "outputs": [
        {
          "output_type": "stream",
          "name": "stdout",
          "text": [
            "5\n",
            "15\n",
            "30\n",
            "5\n",
            "15\n",
            "30\n",
            "Integer: 10\n",
            "String: Hello\n",
            "Other type: [1, 2, 3]\n"
          ]
        }
      ]
    },
    {
      "cell_type": "markdown",
      "source": [
        "5. What are the three types of access modifiers in Python? How are they denoted?"
      ],
      "metadata": {
        "id": "1Af7i_oDxPvw"
      }
    },
    {
      "cell_type": "code",
      "source": [
        "#Public - Public members are accessible from anywhere, both inside and outside the class.\n",
        "class Car:\n",
        "    def __init__(self, make, model):\n",
        "        self.make = make\n",
        "        self.model = model\n",
        "\n",
        "my_car = Car(\"Toyota\", \"Corolla\")\n",
        "print(my_car.make)\n",
        "\n"
      ],
      "metadata": {
        "colab": {
          "base_uri": "https://localhost:8080/"
        },
        "id": "akyR4WMhxXEZ",
        "outputId": "27411b65-6166-4ba2-c7fe-5eda7dfc843d"
      },
      "execution_count": null,
      "outputs": [
        {
          "output_type": "stream",
          "name": "stdout",
          "text": [
            "Toyota\n"
          ]
        }
      ]
    },
    {
      "cell_type": "code",
      "source": [
        "#Protected - Protected members are intended for use within the class and its subclasses. By convention, they shouldn't be accessed directly from outside the class,\n",
        "# though Python does not enforce this restriction strictly.denoted by (_)\n",
        "class Car:\n",
        "    def __init__(self, make, model):\n",
        "        self._make = make\n",
        "        self._model = model\n",
        "\n",
        "class SportsCar(Car):\n",
        "    def display_info(self):\n",
        "        print(f\"SportsCar: {self._make} {self._model}\")\n",
        "\n",
        "my_car = SportsCar(\"Ferrari\", \"F8\")\n",
        "my_car.display_info()\n",
        "\n"
      ],
      "metadata": {
        "colab": {
          "base_uri": "https://localhost:8080/"
        },
        "id": "i_IpVokE00yg",
        "outputId": "1d75f010-5823-4bf1-b7aa-980a83f7ece5"
      },
      "execution_count": null,
      "outputs": [
        {
          "output_type": "stream",
          "name": "stdout",
          "text": [
            "SportsCar: Ferrari F8\n"
          ]
        }
      ]
    },
    {
      "cell_type": "code",
      "source": [
        "# Private -  Private members are only accessible within the class they are defined in. Python implements name mangling to make these attributes harder to access from outside the class.\n",
        "# They are not meant to be accessed directly from outside the class.denoted by (__)\n",
        "class Car:\n",
        "    def __init__(self, make, model):\n",
        "        self.__make = make\n",
        "        self.__model = model\n",
        "\n",
        "    def display_info(self):\n",
        "        print(f\"Car: {self.__make} {self.__model}\")\n",
        "\n",
        "my_car = Car(\"Tesla\", \"Model S\")\n",
        "my_car.display_info()\n",
        "\n"
      ],
      "metadata": {
        "colab": {
          "base_uri": "https://localhost:8080/"
        },
        "id": "hxH5ThcU1h-S",
        "outputId": "87f8e7d0-fda8-4034-e1d0-c5cfad092e01"
      },
      "execution_count": null,
      "outputs": [
        {
          "output_type": "stream",
          "name": "stdout",
          "text": [
            "Car: Tesla Model S\n"
          ]
        }
      ]
    },
    {
      "cell_type": "markdown",
      "source": [
        "6. Describe the five types of inheritance in Python. Provide a simple example of multiple inheritance."
      ],
      "metadata": {
        "id": "4dDfoOK_2_vM"
      }
    },
    {
      "cell_type": "markdown",
      "source": [
        "Answer - Single Inheritance - A class inherits from a single parent class.\n",
        "\n",
        "Multiple Inheritance - A class inherits from more than one parent class, combining the functionality of all parent classes.\n",
        "\n",
        "Multilevel Inheritance - A class inherits from a class that has already inherited from another class, creating a chain of inheritance.\n",
        "\n",
        "Hierarchical Inheritance - Multiple classes inherit from the same parent class.\n",
        "\n",
        "Hybrid Inheritance - A combination of two or more types of inheritance (e.g., multiple and hierarchical). This is more complex and can be represented by a mix of various inheritance types.\n",
        "\n"
      ],
      "metadata": {
        "id": "__tGrS2-3i1I"
      }
    },
    {
      "cell_type": "code",
      "source": [
        "# example of multiple inheritence\n",
        "class Father:\n",
        "    def show_father(self):\n",
        "        print(\"Father's trait\")\n",
        "\n",
        "class Mother:\n",
        "    def show_mother(self):\n",
        "        print(\"Mother's trait\")\n",
        "\n",
        "class Child(Father, Mother):\n",
        "    def show_child(self):\n",
        "        print(\"Child inherits traits\")\n",
        "\n",
        "child = Child()\n",
        "child.show_father()\n",
        "child.show_mother()\n",
        "child.show_child()\n"
      ],
      "metadata": {
        "colab": {
          "base_uri": "https://localhost:8080/"
        },
        "id": "wCVaRXcp45Ic",
        "outputId": "234718bd-8727-4fab-9bb3-1decea8afdfc"
      },
      "execution_count": null,
      "outputs": [
        {
          "output_type": "stream",
          "name": "stdout",
          "text": [
            "Father's trait\n",
            "Mother's trait\n",
            "Child inherits traits\n"
          ]
        }
      ]
    },
    {
      "cell_type": "markdown",
      "source": [
        "7. What is the Method Resolution Order (MRO) in Python? How can you retrieve it programmatically?"
      ],
      "metadata": {
        "id": "MEs7QRVh5MO0"
      }
    },
    {
      "cell_type": "markdown",
      "source": [
        "Answer - The Method Resolution Order (MRO) defines the order in which Python looks for a method or attribute in a hierarchy of classes. This is especially important in the context of multiple inheritance, where a class may inherit from more than one parent class."
      ],
      "metadata": {
        "id": "RBEoQInJ9z6W"
      }
    },
    {
      "cell_type": "code",
      "source": [
        "class A:\n",
        "    def process(self):\n",
        "        print(\"A's process method\")\n",
        "\n",
        "class B(A):\n",
        "    def process(self):\n",
        "        print(\"B's process method\")\n",
        "\n",
        "class C(A):\n",
        "    def process(self):\n",
        "        print(\"C's process method\")\n",
        "\n",
        "class D(B, C):\n",
        "    pass\n",
        "\n",
        "# Retrieving MRO programmatically\n",
        "print(D.__mro__)\n",
        "print(D.mro())\n",
        "\n",
        "help(D)\n"
      ],
      "metadata": {
        "colab": {
          "base_uri": "https://localhost:8080/"
        },
        "id": "wtGqr_iK95-1",
        "outputId": "00ca993e-70a1-4229-fed2-d4b231135593"
      },
      "execution_count": null,
      "outputs": [
        {
          "output_type": "stream",
          "name": "stdout",
          "text": [
            "(<class '__main__.D'>, <class '__main__.B'>, <class '__main__.C'>, <class '__main__.A'>, <class 'object'>)\n",
            "[<class '__main__.D'>, <class '__main__.B'>, <class '__main__.C'>, <class '__main__.A'>, <class 'object'>]\n",
            "Help on class D in module __main__:\n",
            "\n",
            "class D(B, C)\n",
            " |  Method resolution order:\n",
            " |      D\n",
            " |      B\n",
            " |      C\n",
            " |      A\n",
            " |      builtins.object\n",
            " |  \n",
            " |  Methods inherited from B:\n",
            " |  \n",
            " |  process(self)\n",
            " |  \n",
            " |  ----------------------------------------------------------------------\n",
            " |  Data descriptors inherited from A:\n",
            " |  \n",
            " |  __dict__\n",
            " |      dictionary for instance variables (if defined)\n",
            " |  \n",
            " |  __weakref__\n",
            " |      list of weak references to the object (if defined)\n",
            "\n"
          ]
        }
      ]
    },
    {
      "cell_type": "markdown",
      "source": [
        "8. Create an abstract base class `Shape` with an abstract method `area()`. Then create two subclasses\n",
        "`Circle` and `Rectangle` that implement the `area()` method."
      ],
      "metadata": {
        "id": "4BcVI22v-R61"
      }
    },
    {
      "cell_type": "code",
      "source": [
        "from abc import ABC, abstractmethod\n",
        "import math\n",
        "\n",
        "class Shape(ABC):\n",
        "\n",
        "    @abstractmethod\n",
        "    def area(self):\n",
        "        pass\n",
        "\n",
        "# Subclass Circle\n",
        "class Circle(Shape):\n",
        "    def __init__(self, radius):\n",
        "        self.radius = radius\n",
        "\n",
        "    def area(self):\n",
        "        return math.pi * self.radius ** 2\n",
        "\n",
        "# Subclass Rectangle\n",
        "class Rectangle(Shape):\n",
        "    def __init__(self, width, height):\n",
        "        self.width = width\n",
        "        self.height = height\n",
        "\n",
        "    def area(self):\n",
        "        return self.width * self.height\n",
        "\n",
        "circle = Circle(5)\n",
        "rectangle = Rectangle(4, 6)\n",
        "\n",
        "print(f\"Area of the circle: {circle.area():.2f}\")\n",
        "print(f\"Area of the rectangle: {rectangle.area():.2f}\")\n"
      ],
      "metadata": {
        "colab": {
          "base_uri": "https://localhost:8080/"
        },
        "id": "BeGhoKE5-Tff",
        "outputId": "766d4a3d-2b93-4fae-f5f0-631f86d64933"
      },
      "execution_count": null,
      "outputs": [
        {
          "output_type": "stream",
          "name": "stdout",
          "text": [
            "Area of the circle: 78.54\n",
            "Area of the rectangle: 24.00\n"
          ]
        }
      ]
    },
    {
      "cell_type": "markdown",
      "source": [
        "9. Demonstrate polymorphism by creating a function that can work with different shape objects to calculate\n",
        "and print their areas."
      ],
      "metadata": {
        "id": "21PgitJH-ukp"
      }
    },
    {
      "cell_type": "code",
      "source": [
        "from abc import ABC, abstractmethod\n",
        "import math\n",
        "\n",
        "class Shape(ABC):\n",
        "\n",
        "    @abstractmethod\n",
        "    def area(self):\n",
        "        pass\n",
        "\n",
        "class Circle(Shape):\n",
        "    def __init__(self, radius):\n",
        "        self.radius = radius\n",
        "\n",
        "    def area(self):\n",
        "        return math.pi * self.radius ** 2\n",
        "\n",
        "class Rectangle(Shape):\n",
        "    def __init__(self, width, height):\n",
        "        self.width = width\n",
        "        self.height = height\n",
        "\n",
        "    def area(self):\n",
        "        return self.width * self.height\n",
        "\n",
        "class Triangle(Shape):\n",
        "    def __init__(self, base, height):\n",
        "        self.base = base\n",
        "        self.height = height\n",
        "\n",
        "    def area(self):\n",
        "        return 0.5 * self.base * self.height\n",
        "\n",
        "def print_area(shape):\n",
        "    print(f\"The area of the shape is: {shape.area():.2f}\")\n",
        "\n",
        "circle = Circle(5)\n",
        "rectangle = Rectangle(4, 6)\n",
        "triangle = Triangle(3, 4)\n",
        "\n",
        "print_area(circle)\n",
        "print_area(rectangle)\n",
        "print_area(triangle)\n"
      ],
      "metadata": {
        "colab": {
          "base_uri": "https://localhost:8080/"
        },
        "id": "gN7vPNlb-vKN",
        "outputId": "21b6ba4f-9068-4e30-eeed-5e3940d5e36c"
      },
      "execution_count": null,
      "outputs": [
        {
          "output_type": "stream",
          "name": "stdout",
          "text": [
            "The area of the shape is: 78.54\n",
            "The area of the shape is: 24.00\n",
            "The area of the shape is: 6.00\n"
          ]
        }
      ]
    },
    {
      "cell_type": "markdown",
      "source": [
        "10. Implement encapsulation in a `BankAccount` class with private attributes for `balance` and\n",
        "`account_number`. Include methods for deposit, withdrawal, and balance inquiry."
      ],
      "metadata": {
        "id": "eJdefgI0_N03"
      }
    },
    {
      "cell_type": "code",
      "source": [
        "class BankAccount:\n",
        "    def __init__(self, account_number, initial_balance=0):\n",
        "        self.__account_number = account_number\n",
        "        self.__balance = initial_balance\n",
        "\n",
        "    # Method to deposit money\n",
        "    def deposit(self, amount):\n",
        "        if amount > 0:\n",
        "            self.__balance += amount\n",
        "            print(f\"Deposited {amount}. New balance: {self.__balance}\")\n",
        "        else:\n",
        "            print(\"Deposit amount must be positive.\")\n",
        "\n",
        "    # Method to withdraw money\n",
        "    def withdraw(self, amount):\n",
        "        if 0 < amount <= self.__balance:\n",
        "            self.__balance -= amount\n",
        "            print(f\"Withdrew {amount}. New balance: {self.__balance}\")\n",
        "        else:\n",
        "            print(\"Insufficient balance or invalid amount.\")\n",
        "\n",
        "    # Method to check balance (getter for balance)\n",
        "    def get_balance(self):\n",
        "        return self.__balance\n",
        "\n",
        "    # Method to check account number (getter for account number)\n",
        "    def get_account_number(self):\n",
        "        return self.__account_number\n",
        "\n",
        "account = BankAccount(\"123456789\", 1000)\n",
        "\n",
        "# Making a deposit\n",
        "account.deposit(500)\n",
        "\n",
        "# Trying to withdraw money\n",
        "account.withdraw(300)\n",
        "\n",
        "# Balance inquiry\n",
        "print(f\"Balance: {account.get_balance()}\")\n",
        "\n"
      ],
      "metadata": {
        "colab": {
          "base_uri": "https://localhost:8080/"
        },
        "id": "Fkq-jdp9_OOE",
        "outputId": "78c839b7-a772-4c01-aae1-d279ae2bc433"
      },
      "execution_count": null,
      "outputs": [
        {
          "output_type": "stream",
          "name": "stdout",
          "text": [
            "Deposited 500. New balance: 1500\n",
            "Withdrew 300. New balance: 1200\n",
            "Balance: 1200\n"
          ]
        }
      ]
    },
    {
      "cell_type": "markdown",
      "source": [
        "11. Write a class that overrides the `__str__` and `__add__` magic methods. What will these methods allow\n",
        "you to do?"
      ],
      "metadata": {
        "id": "xMfVe0V2glO3"
      }
    },
    {
      "cell_type": "code",
      "source": [
        "#The __str__() method allows you to define how objects of your class are printed.\n",
        "#The __add__() method allows you to define what happens when you add two objects of your class using the + operator, enabling custom behavior for operations like addition.\n",
        "class Book:\n",
        "    def __init__(self, title, author, pages):\n",
        "        self.title = title\n",
        "        self.author = author\n",
        "        self.pages = pages\n",
        "\n",
        "    # Overriding __str__ method to control how the object is printed\n",
        "    def __str__(self):\n",
        "        return f\"'{self.title}' by {self.author}, {self.pages} pages\"\n",
        "\n",
        "    # Overriding __add__ method to add pages of two books\n",
        "    def __add__(self, other):\n",
        "        if isinstance(other, Book):\n",
        "            return self.pages + other.pages\n",
        "        return NotImplemented\n",
        "\n",
        "book1 = Book(\"1984\", \"George Orwell\", 328)\n",
        "book2 = Book(\"Brave New World\", \"Aldous Huxley\", 311)\n",
        "\n",
        "print(book1)\n",
        "\n",
        "total_pages = book1 + book2\n",
        "print(f\"Total pages: {total_pages}\")\n"
      ],
      "metadata": {
        "colab": {
          "base_uri": "https://localhost:8080/"
        },
        "id": "Z6mLFC8FgmGF",
        "outputId": "107b7b64-816b-4981-8ac3-3ef1665ebe37"
      },
      "execution_count": null,
      "outputs": [
        {
          "output_type": "stream",
          "name": "stdout",
          "text": [
            "'1984' by George Orwell, 328 pages\n",
            "Total pages: 639\n"
          ]
        }
      ]
    },
    {
      "cell_type": "markdown",
      "source": [
        "12. Create a decorator that measures and prints the execution time of a function."
      ],
      "metadata": {
        "id": "KalhFQF-hn73"
      }
    },
    {
      "cell_type": "code",
      "source": [
        "import time\n",
        "\n",
        "def timing_decorator(func):\n",
        "    def wrapper(*args, **kwargs):\n",
        "        start_time = time.time()\n",
        "        result = func(*args, **kwargs)\n",
        "        end_time = time.time()\n",
        "        execution_time = end_time - start_time\n",
        "        print(f\"Function '{func.__name__}' executed in {execution_time:.4f} seconds\")\n",
        "        return result\n",
        "    return wrapper\n",
        "\n",
        "@timing_decorator\n",
        "def example_function(n):\n",
        "    total = 0\n",
        "    for i in range(n):\n",
        "        total += i\n",
        "    return total\n",
        "\n",
        "result = example_function(1000000)\n",
        "print(f\"Result: {result}\")\n"
      ],
      "metadata": {
        "colab": {
          "base_uri": "https://localhost:8080/"
        },
        "id": "sR9nqJtPhqsQ",
        "outputId": "39d33ee4-c47c-4804-92b2-7a2a2d682f5b"
      },
      "execution_count": null,
      "outputs": [
        {
          "output_type": "stream",
          "name": "stdout",
          "text": [
            "Function 'example_function' executed in 0.0787 seconds\n",
            "Result: 499999500000\n"
          ]
        }
      ]
    },
    {
      "cell_type": "markdown",
      "source": [
        "13. Explain the concept of the Diamond Problem in multiple inheritance. How does Python resolve it?"
      ],
      "metadata": {
        "id": "EEw3sDKZiPL7"
      }
    },
    {
      "cell_type": "code",
      "source": [
        "#The Diamond Problem arises in the context of multiple inheritance, where a class inherits from two or more classes that have a common ancestor.\n",
        "#The issue gets its name from the diamond-shaped structure formed when diagramming this inheritance hierarchy.\n",
        "#Python uses the Method Resolution Order (MRO) to resolve this ambiguity. The MRO determines the order in which classes are searched for a method or attribute.\n",
        "#Python follows the C3 Linearization Algorithm (also known as C3 superclass linearization) to calculate the MRO in such a way that the diamond problem is resolved consistently.\n",
        "\n",
        "class A:\n",
        "    def greet(self):\n",
        "        print(\"Hello from A\")\n",
        "\n",
        "class B(A):\n",
        "    def greet(self):\n",
        "        print(\"Hello from B\")\n",
        "\n",
        "class C(A):\n",
        "    def greet(self):\n",
        "        print(\"Hello from C\")\n",
        "\n",
        "class D(B, C):\n",
        "    pass\n",
        "\n",
        "d = D()\n",
        "d.greet()\n",
        "print(D.mro())\n"
      ],
      "metadata": {
        "id": "hHSjjx6JiTSZ",
        "colab": {
          "base_uri": "https://localhost:8080/"
        },
        "outputId": "e52d2ed3-d8dc-42a8-a6d5-59856cc43544"
      },
      "execution_count": 1,
      "outputs": [
        {
          "output_type": "stream",
          "name": "stdout",
          "text": [
            "Hello from B\n",
            "[<class '__main__.D'>, <class '__main__.B'>, <class '__main__.C'>, <class '__main__.A'>, <class 'object'>]\n"
          ]
        }
      ]
    },
    {
      "cell_type": "markdown",
      "source": [
        "14. Write a class method that keeps track of the number of instances created from a class."
      ],
      "metadata": {
        "id": "6o7BWad8y00f"
      }
    },
    {
      "cell_type": "code",
      "source": [
        "class InstanceCounter:\n",
        "    instance_count = 0\n",
        "\n",
        "    def __init__(self):\n",
        "        InstanceCounter.instance_count += 1\n",
        "\n",
        "    @classmethod\n",
        "    def get_instance_count(cls):\n",
        "        return cls.instance_count\n",
        "\n",
        "obj1 = InstanceCounter()\n",
        "obj2 = InstanceCounter()\n",
        "obj3 = InstanceCounter()\n",
        "\n",
        "print(InstanceCounter.get_instance_count())\n"
      ],
      "metadata": {
        "colab": {
          "base_uri": "https://localhost:8080/"
        },
        "id": "n9mKWPMty8Xx",
        "outputId": "aece3a7f-0480-483e-b4a2-4ab480b9432b"
      },
      "execution_count": 2,
      "outputs": [
        {
          "output_type": "stream",
          "name": "stdout",
          "text": [
            "3\n"
          ]
        }
      ]
    },
    {
      "cell_type": "markdown",
      "source": [
        "15. Implement a static method in a class that checks if a given year is a leap year."
      ],
      "metadata": {
        "id": "N3O8ZsozzZyO"
      }
    },
    {
      "cell_type": "code",
      "source": [
        "class YearChecker:\n",
        "    @staticmethod\n",
        "    def is_leap_year(year):\n",
        "        if (year % 4 == 0 and year % 100 != 0) or (year % 400 == 0):\n",
        "            return True\n",
        "        else:\n",
        "            return False\n",
        "\n",
        "print(YearChecker.is_leap_year(2024))\n",
        "print(YearChecker.is_leap_year(1900))\n",
        "print(YearChecker.is_leap_year(2000))\n"
      ],
      "metadata": {
        "colab": {
          "base_uri": "https://localhost:8080/"
        },
        "id": "Hgn5JiCEza4b",
        "outputId": "a94999ce-db87-421e-acd5-fab0dfc09105"
      },
      "execution_count": 3,
      "outputs": [
        {
          "output_type": "stream",
          "name": "stdout",
          "text": [
            "True\n",
            "False\n",
            "True\n"
          ]
        }
      ]
    },
    {
      "cell_type": "code",
      "source": [],
      "metadata": {
        "id": "Cdx_p_GUznsT"
      },
      "execution_count": null,
      "outputs": []
    }
  ]
}